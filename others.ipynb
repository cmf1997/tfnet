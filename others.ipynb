{
 "cells": [
  {
   "cell_type": "code",
   "execution_count": null,
   "metadata": {},
   "outputs": [],
   "source": [
    "import numpy as np\n",
    "import pandas as pd\n",
    "import seaborn as sns\n",
    "import matplotlib.pyplot as plt"
   ]
  },
  {
   "cell_type": "code",
   "execution_count": null,
   "metadata": {},
   "outputs": [],
   "source": [
    "tf_counts = []\n",
    "with open('./data/GM12878.count.each.column', 'r') as fp:\n",
    "    for line in fp:\n",
    "        tf_counts.append(int(line.rstrip()))"
   ]
  },
  {
   "cell_type": "code",
   "execution_count": null,
   "metadata": {},
   "outputs": [],
   "source": [
    "filter_fc_GM12878_df = pd.read_csv(\"./results/filter_fc_SimpleCNN_2d_GM12878_deepSEA.eval.repl.tsv\", header=0, index_col=0, sep=\"\\t\")\n",
    "GM12878_df = pd.read_csv(\"./results/SimpleCNN_2d_GM12878_deepSEA.eval.repl.tsv\", header=0, index_col=0, sep=\"\\t\")\n",
    "filter_fc_GM12878_df.columns = [ \"filter_\"+i for i in filter_fc_GM12878_df.columns.tolist()]\n",
    "merge_df = pd.concat([GM12878_df, filter_fc_GM12878_df], axis=1)\n",
    "merge_df['datasize'] = tf_counts"
   ]
  },
  {
   "cell_type": "code",
   "execution_count": null,
   "metadata": {},
   "outputs": [],
   "source": [
    "plt.rcParams.update({'font.size': 5})\n",
    "custom_params = {\"axes.spines.right\": False, \"axes.spines.top\": False}\n",
    "sns.set_theme(style=\"ticks\", rc=custom_params)\n",
    "fig, ax =plt.subplots(4,1,constrained_layout=True, figsize=(25, 40), sharex=False)\n",
    "#plt.figure(dpi=150,figsize=(30,8))\n",
    "g1 = sns.barplot(data=merge_df, x=\"TF_name\", y=\"AUC\",hue=\"datasize\", ax=ax[0])\n",
    "g1.axhline(0.9, color='r', dashes=(2,2))\n",
    "g1.xaxis()\n",
    "g1.legend(loc='upper right')\n",
    "h1 = sns.histplot(data=merge_df, x=\"AUC\", kde=True, ax=ax[1])\n",
    "g2 = sns.barplot(data=merge_df, x=\"TF_name\", y=\"AUPR\",hue=\"datasize\", ax=ax[2])\n",
    "g2.axhline(0.35, color='r', dashes=(2,2))\n",
    "h2 = sns.histplot(data=merge_df, x=\"AUPR\", kde=True, ax=ax[3])\n",
    "ax[0].get_legend().remove()\n",
    "ax[0].set_xlabel('')\n",
    "ax[1].set_xlabel('')\n",
    "ax[2].set_xlabel('')\n",
    "ax[3].set_xlabel('')\n",
    "#plt.xticks(rotation=90)\n",
    "for tick in ax[0].get_xticklabels():\n",
    "    tick.set_rotation(45)\n",
    "\n",
    "\n",
    "for tick in ax[2].get_xticklabels():\n",
    "    tick.set_rotation(45)\n",
    "\n",
    "plt.legend(loc='upper right')\n",
    "plt.savefig(\"results/test.pdf\")"
   ]
  },
  {
   "cell_type": "markdown",
   "metadata": {},
   "source": [
    "### remove low AUC/AUPR TFs"
   ]
  },
  {
   "cell_type": "code",
   "execution_count": null,
   "metadata": {},
   "outputs": [],
   "source": [
    "merge_df['AUC'].mean()\n",
    "merge_df['AUPR'].mean()\n",
    "# remove tfs in GM12878\n",
    "# due to AUC \n",
    "print(\"Count of AUC lower than 0.85: \",sum(merge_df['AUC'] < 0.85))\n",
    "AUC_remove = merge_df[merge_df['AUC'] < 0.85]['TF_name'].tolist()\n",
    "#AUC_remove = merge_df.sort_values('AUC').head(2)['TF_name'].tolist()\n",
    "\n",
    "# due to AUPR\n",
    "print(\"Count of AUPR lower than 0.1: \",sum(merge_df['AUC'] < 0.85))\n",
    "AUPR_remove = merge_df[merge_df['AUPR'] < 0.1]['TF_name'].tolist()\n",
    "#AUPR_remove = merge_df.sort_values('AUPR').head(13)['TF_name'].tolist()\n",
    "\n",
    "print(\"AUC after filter: \", merge_df[~merge_df['TF_name'].isin(set(AUC_remove + AUPR_remove))]['AUC'].mean())\n",
    "print(\"AUPR after filter \", merge_df[~merge_df['TF_name'].isin(set(AUC_remove + AUPR_remove))]['AUPR'].mean())"
   ]
  },
  {
   "cell_type": "code",
   "execution_count": null,
   "metadata": {},
   "outputs": [],
   "source": []
  },
  {
   "cell_type": "code",
   "execution_count": null,
   "metadata": {},
   "outputs": [],
   "source": []
  },
  {
   "cell_type": "code",
   "execution_count": null,
   "metadata": {},
   "outputs": [],
   "source": []
  },
  {
   "cell_type": "code",
   "execution_count": null,
   "metadata": {},
   "outputs": [],
   "source": []
  },
  {
   "cell_type": "code",
   "execution_count": null,
   "metadata": {},
   "outputs": [],
   "source": [
    "merge_df[['TF_name','AUC','filter_AUC','datasize']].melt(['TF_name','datasize'], ['AUC','filter_AUC'])\n",
    "\n",
    "custom_params = {\"axes.spines.right\": False, \"axes.spines.top\": False}\n",
    "sns.set_theme(style=\"ticks\", rc=custom_params)\n",
    "plt.figure(dpi=150,figsize=(50,8))\n",
    "g = sns.barplot(data=merge_df[['TF_name','AUC','filter_AUC','datasize']].melt(['TF_name','datasize'], ['AUC','filter_AUC']), x=\"TF_name\", y=\"value\",hue=\"variable\")\n",
    "g.axhline(0.9, color='r', dashes=(2,2))\n",
    "plt.xticks(rotation=90)\n",
    "plt.legend(loc='upper right')\n",
    "#plt.show()\n",
    "\n",
    "\n",
    "\n",
    "\n",
    "\n",
    "plt.savefig(\"results/test2.pdf\")"
   ]
  },
  {
   "cell_type": "markdown",
   "metadata": {},
   "source": [
    "### Compare Models in GM12878 test data set"
   ]
  },
  {
   "cell_type": "code",
   "execution_count": null,
   "metadata": {},
   "outputs": [],
   "source": [
    "#scFAN DeepATT DanQ TBiNet Deepformer\n",
    "scFAN_GM12878_noweight = pd.read_csv(\"scFAN_GM12878_noweight.eval.repl.tsv\", header=0, index_col=0)\n",
    "DeepATT_GM12878_noweight = pd.read_csv(\"DeepATT_GM12878_noweight.eval.repl.tsv\", header=0, index_col=0)\n",
    "DanQ_GM12878_noweight = pd.read_csv(\"DanQ_GM12878_noweight.eval.repl.tsv\", header=0, index_col=0)\n",
    "TBiNet_GM12878_noweight = pd.read_csv(\"TBiNet_GM12878_noweight.eval.repl.tsv\", header=0, index_col=0)\n",
    "Deepformer_GM12878_noweight = pd.read_csv(\"Deepformer_GM12878_noweight.eval.repl.tsv\", header=0, index_col=0)"
   ]
  },
  {
   "cell_type": "code",
   "execution_count": null,
   "metadata": {},
   "outputs": [],
   "source": [
    "scFAN_GM12878 = pd.read_csv(\"scFAN_GM12878.eval.repl.tsv\", header=0, index_col=0)\n",
    "DeepATT_GM12878 = pd.read_csv(\"DeepATT_GM12878.eval.repl.tsv\", header=0, index_col=0)\n",
    "DanQ_GM12878 = pd.read_csv(\"DanQ_GM12878.eval.repl.tsv\", header=0, index_col=0)\n",
    "TBiNet_GM12878 = pd.read_csv(\"TBiNet_GM12878.eval.repl.tsv\", header=0, index_col=0)\n",
    "Deepformer_GM12878 = pd.read_csv(\"Deepformer_GM12878.eval.repl.tsv\", header=0, index_col=0)"
   ]
  }
 ],
 "metadata": {
  "kernelspec": {
   "display_name": "pytorch",
   "language": "python",
   "name": "python3"
  },
  "language_info": {
   "codemirror_mode": {
    "name": "ipython",
    "version": 3
   },
   "file_extension": ".py",
   "mimetype": "text/x-python",
   "name": "python",
   "nbconvert_exporter": "python",
   "pygments_lexer": "ipython3",
   "version": "3.10.11"
  }
 },
 "nbformat": 4,
 "nbformat_minor": 2
}
